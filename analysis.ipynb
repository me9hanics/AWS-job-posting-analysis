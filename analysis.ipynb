{
 "cells": [
  {
   "cell_type": "code",
   "execution_count": 1,
   "metadata": {},
   "outputs": [],
   "source": [
    "import pandas as pd\n",
    "import numpy as np\n",
    "\n",
    "from methods import sites, actions, scrape, urls\n",
    "from schedule import tech_collect"
   ]
  },
  {
   "cell_type": "markdown",
   "metadata": {},
   "source": [
    "#### Option A: gather data from script"
   ]
  },
  {
   "cell_type": "code",
   "execution_count": null,
   "metadata": {},
   "outputs": [],
   "source": [
    "info = tech_collect.main()\n",
    "results = info[\"results\"]"
   ]
  },
  {
   "cell_type": "markdown",
   "metadata": {},
   "source": [
    "#### Option B: reload data"
   ]
  },
  {
   "cell_type": "code",
   "execution_count": 2,
   "metadata": {},
   "outputs": [],
   "source": [
    "path = \"source/save/postings/tech/\"\n",
    "results = actions.load_file_if_str(path + actions.get_filename_from_dir(path=path, index=-1))"
   ]
  },
  {
   "cell_type": "markdown",
   "metadata": {},
   "source": [
    "TODO: clean all time postings (update to new dict structure (fill in missing with NaN), recalculate points), or at least sort into \"good\" and \"old\" folders"
   ]
  },
  {
   "cell_type": "markdown",
   "metadata": {},
   "source": [
    "### Analyze current data"
   ]
  },
  {
   "cell_type": "code",
   "execution_count": 3,
   "metadata": {},
   "outputs": [],
   "source": [
    "interesting = {post:value for post,value in results.items() if any([keyword in results[post]['description'].lower()\n",
    "                                                                        for keyword in tech_collect.MAIN_DESCRIPTION_KEYWORDS])}\n",
    "interesting = dict(sorted(interesting.items(), key=lambda x: x[1]['points'], reverse=True))"
   ]
  },
  {
   "cell_type": "code",
   "execution_count": 4,
   "metadata": {},
   "outputs": [
    {
     "name": "stdout",
     "output_type": "stream",
     "text": [
      "New items above points threshold: \n",
      "\n",
      "karriere.at7594694: \n",
      "\ttitle: Senior Full Stack .NET Developer (m/w/x),\n",
      "\tcompany: BearingPoint GmbH,\n",
      "\tsalary_monthly_guessed: 3843,\n",
      "\tpoints: 2.215,\n",
      "\tsnippet: Deine Aufgaben: Entwicklung und Weiterentwicklung moderner Web- und Cloud-Anwendungen auf Basis von .NET, .NET Core, C# und Azure, Design, Konfiguration und Deployment von APIs, Services und zentralen...\n",
      "\n",
      "karriere.at7594100: \n",
      "\ttitle: Energiesystem Engineer (w/m/x),\n",
      "\tcompany: epunkt GmbH,\n",
      "\tsalary_monthly_guessed: 4200,\n",
      "\tpoints: 2.115,\n",
      "\tsnippet: Deine Aufgaben: Mitverantwortlich für den Aufbau, die Programmierung und Anwendung eines Energiesystemmodells auf Basis von PyPSA Entwicklung fundierter Energieszenarien zur Erreichung der Klimaneutra...\n",
      "\n",
      "karriere.at7594679: \n",
      "\ttitle: (Senior) Kundenbetreuer:in Kompetenzzentrum Immobilien (w/m/d),\n",
      "\tcompany: Raiffeisen Niederösterreich-Wien,\n",
      "\tsalary_monthly_guessed: 4642,\n",
      "\tpoints: 1.698,\n",
      "\tsnippet: (Senior) Kundenbetreuer:in Kompetenzzentrum Immobilien (w/m/d) Wien, Anstellungsart: Vollzeit Möchten Sie in einem Arbeitsumfeld arbeiten, das Transparenz, Offenheit und Ihre persönliche...\n",
      "\n",
      "karriere.at7593989: \n",
      "\ttitle: System Engineer – Automation (m/w/*),\n",
      "\tcompany: CANCOM Austria AG,\n",
      "\tsalary_monthly_guessed: 3928,\n",
      "\tpoints: 1.182,\n",
      "\tsnippet: Deine Aufgaben: Mitwirkung an der Planung, Entwicklung, Qualitätssicherung und des Betriebs von Automatisierungslösungen für IT Managed Services, Unterstützung der Planungsprozesse (Lösungswege...\n",
      "\n",
      "karriere.at7594400: \n",
      "\ttitle: Data Scientist Supply Chain Management (m/w/d),\n",
      "\tcompany: HOFER KG,\n",
      "\tsalary_monthly_guessed: 3644,\n",
      "\tpoints: 1.021,\n",
      "\tsnippet: Ihre Aufgaben: Die mich erwarten, aktives Mitwirken bei der Entwicklung und Optimierung unserer Warenbedarfsplanung, Unterstützen bei quantitativen sowie qualitativen Analysen unserer Produkte und War...\n",
      "\n",
      "karriere.at7594394: \n",
      "\ttitle: Data Scientist Supply Chain Management (m/w/d),\n",
      "\tcompany: HOFER KG,\n",
      "\tsalary_monthly_guessed: 3644,\n",
      "\tpoints: 1.021,\n",
      "\tsnippet: Ihre Aufgaben: Die mich erwarten, aktives Mitwirken bei der Entwicklung und Optimierung unserer Warenbedarfsplanung, Unterstützen bei quantitativen sowie qualitativen Analysen unserer Produkte und War...\n",
      "\n",
      "karriere.at7594388: \n",
      "\ttitle: Spezialist*in Risikomanagement,\n",
      "\tcompany: Wien Energie GmbH,\n",
      "\tsalary_monthly_guessed: 4514,\n",
      "\tpoints: 0.791,\n",
      "\tsnippet: Spezialist*in Risikomanagement Vollzeit 37,5 Std | 1030 Wien, Thomas-Klestil-Platz 14 Jetzt bewerben Wien Energie, größter regionaler Energieanbieter Österreichs...\n",
      "\n",
      "\n",
      "\n",
      "Removed items above points threshold: \n",
      "\n",
      "karriere.at7561022: \n",
      "\ttitle: Senior AI- & MLOps-Engineer  (w/m/d),\n",
      "\tcompany: 3 Banken IT GmbH,\n",
      "\tsalary_monthly_guessed: 3950,\n",
      "\tpoints: 2.935,\n",
      "\tsnippet: Senior AI- & MLOps-Engineer (w/m/d) Du hast Lust auf spannende Projekte und möchtest Dich gemeinsam in einem vielseitigen Team neuen Herausforderungen stellen? Dann bist Du in...\n",
      "\n",
      "karriere.at7548195: \n",
      "\ttitle: AI Spezialist (m/w/d) - AI Specialist,\n",
      "\tcompany: Ratbacher GmbH,\n",
      "\tsalary_monthly_guessed: 4285,\n",
      "\tpoints: 2.428,\n",
      "\tsnippet: * Wien, Festanstellung, Direktvermittlung, Jobnr. 45770 Unser  Auftraggeber Unser Auftraggeber ist ein zukunftsorientiertes Unternehmen mit Sitz in Wien, das sich durch Innovation...\n",
      "\n",
      "karriere.at7593452: \n",
      "\ttitle: Senior Software Engineer - Semantic Dictionary (m/f/x),\n",
      "\tcompany: Dynatrace Austria GmbH,\n",
      "\tsalary_monthly_guessed: 4285,\n",
      "\tpoints: 0.647,\n",
      "\tsnippet: Your role: At Dynatrace The Semantic Dictionary is a fundamental pillar for our customers to understand and investigate observability data. It represents a collection of semantic conventions that give...\n",
      "\n",
      "raiffeisen_international824965302: \n",
      "\ttitle: Software Engineer (f/m/x),\n",
      "\tcompany: Raiffeisen International,\n",
      "\tsalary_monthly_guessed: 3928,\n",
      "\tpoints: 0.642\n"
     ]
    }
   ],
   "source": [
    "file_name = actions.get_filename_from_dir(path, index = -2)\n",
    "added, removed = actions.compare_postings(results, f'{path}{file_name}',\n",
    "                                           print_attrs=[\"title\", \"company\", \"points\", \"salary_monthly_guessed\", \"snippet\"], printed_text_max_length = 200)"
   ]
  },
  {
   "cell_type": "code",
   "execution_count": null,
   "metadata": {},
   "outputs": [],
   "source": [
    "results"
   ]
  },
  {
   "cell_type": "code",
   "execution_count": null,
   "metadata": {},
   "outputs": [],
   "source": [
    "interesting"
   ]
  },
  {
   "cell_type": "code",
   "execution_count": null,
   "metadata": {},
   "outputs": [],
   "source": [
    "added"
   ]
  },
  {
   "cell_type": "markdown",
   "metadata": {},
   "source": [
    "### Historical data analysis"
   ]
  },
  {
   "cell_type": "code",
   "execution_count": 5,
   "metadata": {},
   "outputs": [
    {
     "name": "stdout",
     "output_type": "stream",
     "text": [
      "No. postings so far:  6169\n"
     ]
    }
   ],
   "source": [
    "postings_h = (actions.combine_postings(folder_path=path))\n",
    "df_h = pd.DataFrame.from_dict(postings_h, orient='index')\n",
    "print(\"No. postings so far: \", len(postings_h))\n",
    "\n",
    "interesting_postings_h = {post:value for post,value in postings_h.items() if any([keyword in postings_h[post]['description'].lower()\n",
    "                                                                        for keyword in tech_collect.MAIN_DESCRIPTION_KEYWORDS\n",
    "                                                                        if 'description' in postings_h[post] and postings_h[post]['description']\n",
    "                                                                        ])}\n",
    "interesting_postings_h = dict(sorted(interesting_postings_h.items(), key=lambda x: x[1]['points'] if 'points' in x[1] else 0, reverse=True))\n",
    "\n",
    "rare_companies = [company for company in df_h['company'].unique() if len(df_h[df_h['company'] == company]) <= 3]\n",
    "\n",
    "df_rare_companies = df_h[df_h['company'].isin(rare_companies)].sort_values(by='points', ascending=False)[['title', 'company', 'salary',\n",
    "       'locations', 'url', 'snippet', 'date',\n",
    "       'id', 'salary_monthly_guessed', 'description', 'points', 'keywords',\n",
    "       'collected_on', 'role', 'requirements', 'nice_to_have', 'benefits']]\n",
    "\n",
    "file_name = 'postings_2025-01-19-00-33-53'\n",
    "_, removed_h = actions.compare_postings(results, f'{path}{file_name}.json', print_attrs=[])"
   ]
  },
  {
   "cell_type": "code",
   "execution_count": null,
   "metadata": {},
   "outputs": [],
   "source": [
    "interesting_postings_h"
   ]
  },
  {
   "cell_type": "code",
   "execution_count": null,
   "metadata": {},
   "outputs": [],
   "source": [
    "postings_h"
   ]
  },
  {
   "cell_type": "code",
   "execution_count": null,
   "metadata": {},
   "outputs": [],
   "source": [
    "df_rare_companies"
   ]
  },
  {
   "cell_type": "code",
   "execution_count": null,
   "metadata": {},
   "outputs": [],
   "source": [
    "removed_h"
   ]
  }
 ],
 "metadata": {
  "kernelspec": {
   "display_name": "jobposts",
   "language": "python",
   "name": "python3"
  },
  "language_info": {
   "codemirror_mode": {
    "name": "ipython",
    "version": 3
   },
   "file_extension": ".py",
   "mimetype": "text/x-python",
   "name": "python",
   "nbconvert_exporter": "python",
   "pygments_lexer": "ipython3",
   "version": "3.13.2"
  }
 },
 "nbformat": 4,
 "nbformat_minor": 2
}
